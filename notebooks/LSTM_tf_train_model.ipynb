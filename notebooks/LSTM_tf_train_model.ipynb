{
 "cells": [
  {
   "cell_type": "code",
   "execution_count": 1,
   "id": "built-canyon",
   "metadata": {},
   "outputs": [],
   "source": [
    "import os, sys\n",
    "os.environ['PYTHONHASHSEED']=str(1)\n",
    "import argparse\n",
    "import random\n",
    "\n",
    "# RNN for training\n",
    "import numpy as np\n",
    "import pandas as pd\n",
    "import math\n",
    "\n",
    "import pickle\n",
    "\n",
    "import tensorflow as tf\n",
    "from tensorflow.keras.layers import Input\n",
    "from tensorflow.keras.models import Model\n",
    "from tensorflow.keras.models import Sequential\n",
    "from tensorflow.keras.layers import Dense\n",
    "from tensorflow.keras.layers import LSTM\n",
    "from sklearn.metrics import mean_squared_error"
   ]
  },
  {
   "cell_type": "code",
   "execution_count": 2,
   "id": "touched-earth",
   "metadata": {},
   "outputs": [],
   "source": [
    "PATH_TO_REPO = '/'.join(os.getcwd().split('/')[:-1])\n",
    "sys.path.append(PATH_TO_REPO)"
   ]
  },
  {
   "cell_type": "code",
   "execution_count": 3,
   "id": "meaningful-branch",
   "metadata": {},
   "outputs": [],
   "source": [
    "from utils.pltutils import * # import matplotlib settings\n",
    "from utils.tfutils.reset_random_seed import reset_random_seed"
   ]
  },
  {
   "cell_type": "code",
   "execution_count": 4,
   "id": "alike-letters",
   "metadata": {},
   "outputs": [],
   "source": [
    "%matplotlib inline\n",
    "import matplotlib.pyplot as plt\n",
    "from matplotlib.patches import Patch\n",
    "from matplotlib.colors import to_rgb, to_rgba\n",
    "\n",
    "# matplotlib style settings\n",
    "plt.rcParams['axes.linewidth'] = 1.4\n",
    "plt.rcParams['xtick.direction'] = 'in'\n",
    "plt.rcParams['ytick.direction'] = 'in'\n",
    "plt.rcParams['ytick.minor.size'] = 2.5\n",
    "plt.rcParams['xtick.minor.size'] = 4.0\n",
    "plt.rcParams['ytick.minor.visible'] = True\n",
    "plt.rcParams['ytick.labelsize'] = 'large'\n",
    "plt.rcParams['xtick.labelsize'] = 'large'"
   ]
  },
  {
   "cell_type": "markdown",
   "id": "trained-distinction",
   "metadata": {},
   "source": [
    "Set input arguments for training:\n",
    "<br>&emsp;- PERIOD: Number of LSTM units connected in series\n",
    "<br>&emsp;- UNITS: Number of hidden layers in the lSTM\n",
    "<br>&emsp;- SCALER: A custom sklearn scaler can be used, if necessary, to normalize the data. If None is provided, then a scaler is initialized."
   ]
  },
  {
   "cell_type": "code",
   "execution_count": 10,
   "id": "powered-maintenance",
   "metadata": {},
   "outputs": [],
   "source": [
    "path_to_output = '../output'\n",
    "YEAR = 2016\n",
    "XTAL = 54000\n",
    "PERIOD = 35\n",
    "UNITS = 25\n",
    "EPOCHS = 1\n",
    "BATCH_SIZE = 1\n",
    "SEED = 7\n",
    "SCALER = 'None'\n",
    "SPLIT = 0.8"
   ]
  },
  {
   "cell_type": "markdown",
   "id": "orange-guyana",
   "metadata": {},
   "source": [
    "During training, the dataset is shuffled in a randomized fashion. To make the results reproduciable, initialize the seed."
   ]
  },
  {
   "cell_type": "code",
   "execution_count": 6,
   "id": "cooked-arrest",
   "metadata": {},
   "outputs": [],
   "source": [
    "reset_random_seed(SEED)"
   ]
  },
  {
   "cell_type": "markdown",
   "id": "flying-assurance",
   "metadata": {},
   "source": [
    "Import data for a given crystal from the csv file. Class lstm_data_processor can be used to construct normalized arrays that can be used for training. The dataset is split into training and testing based on a given split provided."
   ]
  },
  {
   "cell_type": "code",
   "execution_count": 7,
   "id": "secondary-reform",
   "metadata": {
    "scrolled": true
   },
   "outputs": [
    {
     "name": "stdout",
     "output_type": "stream",
     "text": [
      "Using self-scaling ...\n"
     ]
    },
    {
     "name": "stderr",
     "output_type": "stream",
     "text": [
      "/panfs/jay/groups/2/rusack/joshib/fair_ecal_monitoring/src/python/tf/data_processor.py:61: PerformanceWarning: DataFrame is highly fragmented.  This is usually the result of calling `frame.insert` many times, which has poor performance.  Consider joining all columns at once using pd.concat(axis=1) instead.  To get a de-fragmented frame, use `newframe = frame.copy()`\n",
      "  tmp['calibration+'+str(i)] = self.df['calibration'].shift(periods=-i, fill_value=0.0).to_numpy()\n",
      "/panfs/jay/groups/2/rusack/joshib/fair_ecal_monitoring/src/python/tf/data_processor.py:59: PerformanceWarning: DataFrame is highly fragmented.  This is usually the result of calling `frame.insert` many times, which has poor performance.  Consider joining all columns at once using pd.concat(axis=1) instead.  To get a de-fragmented frame, use `newframe = frame.copy()`\n",
      "  tmp['delta_lumi+'+str(i)] = self.df['delta_lumi'].shift(periods=-i, fill_value=0.0).to_numpy()\n",
      "/panfs/jay/groups/2/rusack/joshib/fair_ecal_monitoring/src/python/tf/data_processor.py:60: PerformanceWarning: DataFrame is highly fragmented.  This is usually the result of calling `frame.insert` many times, which has poor performance.  Consider joining all columns at once using pd.concat(axis=1) instead.  To get a de-fragmented frame, use `newframe = frame.copy()`\n",
      "  tmp['deltat+'+str(i)] = self.df['deltat'].shift(periods=-i, fill_value=0.0).to_numpy()\n"
     ]
    }
   ],
   "source": [
    "X = None\n",
    "Y = None\n",
    "\n",
    "from src.python.tf.data_processor import lstm_data_processor\n",
    "prsr = lstm_data_processor(XTAL, YEAR, PERIOD)\n",
    "prsr.prepare_dataset_from_csv('{}/data/interim/'.format(PATH_TO_REPO), SCALER)\n",
    "prsr.save_to_pickle('{}/data/processed/'.format(PATH_TO_REPO))\n",
    "X = prsr.train_x\n",
    "Y = prsr.train_y\n",
    "\n",
    "\n",
    "trainmax = int(SPLIT*len(X))\n",
    "index = np.arange(0, len(X)-1)\n",
    "random.shuffle(index)\n",
    "\n",
    "\n",
    "train_x = X[index][0:trainmax]\n",
    "train_y = Y[index][0:trainmax]\n",
    "valid_x = X[index][trainmax:]\n",
    "valid_y = Y[index][trainmax:]"
   ]
  },
  {
   "cell_type": "markdown",
   "id": "useful-falls",
   "metadata": {},
   "source": [
    "Import a model architecture and train the model."
   ]
  },
  {
   "cell_type": "code",
   "execution_count": 11,
   "id": "careful-technology",
   "metadata": {},
   "outputs": [
    {
     "name": "stdout",
     "output_type": "stream",
     "text": [
      "Model: \"model_2\"\n",
      "_________________________________________________________________\n",
      "Layer (type)                 Output Shape              Param #   \n",
      "=================================================================\n",
      "input_3 (InputLayer)         [(None, 35, 3)]           0         \n",
      "_________________________________________________________________\n",
      "lstm_2 (LSTM)                (None, 25)                2900      \n",
      "_________________________________________________________________\n",
      "dense_2 (Dense)              (None, 1)                 26        \n",
      "=================================================================\n",
      "Total params: 2,926\n",
      "Trainable params: 2,926\n",
      "Non-trainable params: 0\n",
      "_________________________________________________________________\n",
      "Model optimizer\n",
      "{'name': 'Adam', 'learning_rate': 0.001, 'decay': 0.0, 'beta_1': 0.9, 'beta_2': 0.999, 'epsilon': 1e-07, 'amsgrad': False}\n",
      "3244/3244 - 89s - loss: 0.0479 - val_loss: 0.0128\n"
     ]
    }
   ],
   "source": [
    "from src.models.tf.lstm import lstm\n",
    "model = lstm(PERIOD, UNITS)\n",
    "model.model.summary()\n",
    "model.model.compile(loss=tf.keras.losses.MeanSquaredError(), optimizer='adam')\n",
    "\n",
    "print('Model optimizer')\n",
    "print(model.model.optimizer.get_config())\n",
    "\n",
    "training_output = model.model.fit(train_x, train_y,\n",
    "                            epochs=EPOCHS, batch_size=BATCH_SIZE, verbose=2,\n",
    "                            validation_data=(valid_x, valid_y),\n",
    "                            shuffle = True)"
   ]
  },
  {
   "cell_type": "code",
   "execution_count": 13,
   "id": "crude-belle",
   "metadata": {},
   "outputs": [
    {
     "name": "stderr",
     "output_type": "stream",
     "text": [
      "WARNING:absl:Found untraced functions such as lstm_cell_2_layer_call_fn, lstm_cell_2_layer_call_and_return_conditional_losses, lstm_cell_2_layer_call_fn, lstm_cell_2_layer_call_and_return_conditional_losses, lstm_cell_2_layer_call_and_return_conditional_losses while saving (showing 5 of 5). These functions will not be directly callable after loading.\n",
      "WARNING:absl:Found untraced functions such as lstm_cell_2_layer_call_fn, lstm_cell_2_layer_call_and_return_conditional_losses, lstm_cell_2_layer_call_fn, lstm_cell_2_layer_call_and_return_conditional_losses, lstm_cell_2_layer_call_and_return_conditional_losses while saving (showing 5 of 5). These functions will not be directly callable after loading.\n"
     ]
    },
    {
     "name": "stdout",
     "output_type": "stream",
     "text": [
      "INFO:tensorflow:Assets written to: ../output/models/lstm_25_period_35_calib_inst_lumi_deltat_xtal_54000_epochs_1_batch_1_seed_7/assets\n"
     ]
    },
    {
     "name": "stderr",
     "output_type": "stream",
     "text": [
      "INFO:tensorflow:Assets written to: ../output/models/lstm_25_period_35_calib_inst_lumi_deltat_xtal_54000_epochs_1_batch_1_seed_7/assets\n"
     ]
    }
   ],
   "source": [
    "model_name = '{}/models/lstm_{}_period_{}_calib_inst_lumi_deltat_xtal_{}_epochs_{}_batch_{}_seed_{}'.format(path_to_output, UNITS, PERIOD, XTAL, EPOCHS, BATCH_SIZE, SEED)\n",
    "model.model.save(model_name)"
   ]
  },
  {
   "cell_type": "code",
   "execution_count": 18,
   "id": "empirical-gamma",
   "metadata": {},
   "outputs": [
    {
     "data": {
      "image/png": "[encoded data removed]",
      "text/plain": [
       "<Figure size 475.2x475.2 with 1 Axes>"
      ]
     },
     "metadata": {
      "needs_background": "light"
     },
     "output_type": "display_data"
    }
   ],
   "source": [
    "path_to_output = model_name\n",
    "os.system('mkdir {}/plots/'.format(path_to_output))\n",
    "\n",
    "# plot the training loss\n",
    "plt.figure(figsize=(6.6,6.6))\n",
    "plt.plot(training_output.epoch, training_output.history['loss'], color='orange', label='loss')\n",
    "plt.plot(training_output.epoch, training_output.history['val_loss'], color='blue', label='validation loss')\n",
    "plt.ylabel('loss', fontsize=14)\n",
    "plt.xlabel('epochs', fontsize=14)\n",
    "plt.legend()\n",
    "plt.savefig('{}/plots/training_loss.png'.format(path_to_output))"
   ]
  },
  {
   "cell_type": "code",
   "execution_count": 17,
   "id": "eleven-brazil",
   "metadata": {},
   "outputs": [
    {
     "data": {
      "text/plain": [
       "<tensorflow.python.keras.callbacks.History at 0x2b134d1147f0>"
      ]
     },
     "execution_count": 17,
     "metadata": {},
     "output_type": "execute_result"
    }
   ],
   "source": [
    "training_output.epochs"
   ]
  },
  {
   "cell_type": "code",
   "execution_count": null,
   "id": "narrative-decline",
   "metadata": {},
   "outputs": [],
   "source": []
  }
 ],
 "metadata": {
  "kernelspec": {
   "display_name": "tf",
   "language": "python",
   "name": "tf"
  },
  "language_info": {
   "codemirror_mode": {
    "name": "ipython",
    "version": 3
   },
   "file_extension": ".py",
   "mimetype": "text/x-python",
   "name": "python",
   "nbconvert_exporter": "python",
   "pygments_lexer": "ipython3",
   "version": "3.8.11"
  }
 },
 "nbformat": 4,
 "nbformat_minor": 5
}
